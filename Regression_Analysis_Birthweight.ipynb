{
 "cells": [
  {
   "cell_type": "code",
   "execution_count": 1,
   "id": "a436142f",
   "metadata": {},
   "outputs": [
    {
     "name": "stdout",
     "output_type": "stream",
     "text": [
      "   mage  meduc  monpre  npvis  fage  feduc  omaps  fmaps  cigs  drink  male  \\\n",
      "0    69    NaN       5    2.0    62    NaN      4      7    23      9     1   \n",
      "1    68   12.0       3   10.0    61   11.0      4      6    25     11     1   \n",
      "2    71   12.0       3    6.0    46   12.0      2      7    21     12     1   \n",
      "3    59   16.0       1    8.0    48   16.0      7      8    21     10     0   \n",
      "4    48   12.0       4    6.0    39   12.0      2      9    17     13     0   \n",
      "\n",
      "   mwhte  mblck  moth  fwhte  fblck  foth  bwght  \n",
      "0      0      1     0      0      1     0    697  \n",
      "1      1      0     0      1      0     0   1290  \n",
      "2      0      1     0      0      1     0   1490  \n",
      "3      0      0     1      0      0     1   1720  \n",
      "4      1      0     0      1      0     0   1956  \n"
     ]
    }
   ],
   "source": [
    "#importing necessary packages\n",
    "import pandas as pd #data science essentials\n",
    "import matplotlib.pyplot as plt #data visualization essentials\n",
    "import seaborn as sns #enhanced data visulization\n",
    "import numpy as np \n",
    "from sklearn.model_selection import train_test_split # train/test split\n",
    "import statsmodels.formula.api as smf # predictive modeling with nice outputs\n",
    "from sklearn.neighbors import KNeighborsRegressor # KNN for Regression\n",
    "from sklearn.preprocessing import StandardScaler # standard scaler\n",
    "from sklearn.linear_model import LinearRegression # linear regression (scikit-learn)\n",
    "import sklearn.linear_model # linear models\n",
    "\n",
    "#specifying the file\n",
    "file= \"birthweight_low.xlsx\"\n",
    "\n",
    "#reading the file into Python with pandas\n",
    "df = pd.read_excel (io=file)\n",
    "\n",
    "#printing the first rows of the dataset to check the alignment between the variables and the titles\n",
    "print(df.head(n=5))"
   ]
  },
  {
   "cell_type": "code",
   "execution_count": 2,
   "id": "758a4f32",
   "metadata": {},
   "outputs": [
    {
     "name": "stdout",
     "output_type": "stream",
     "text": [
      "<class 'pandas.core.frame.DataFrame'>\n",
      "RangeIndex: 196 entries, 0 to 195\n",
      "Data columns (total 18 columns):\n",
      " #   Column  Non-Null Count  Dtype  \n",
      "---  ------  --------------  -----  \n",
      " 0   mage    196 non-null    int64  \n",
      " 1   meduc   193 non-null    float64\n",
      " 2   monpre  196 non-null    int64  \n",
      " 3   npvis   193 non-null    float64\n",
      " 4   fage    196 non-null    int64  \n",
      " 5   feduc   189 non-null    float64\n",
      " 6   omaps   196 non-null    int64  \n",
      " 7   fmaps   196 non-null    int64  \n",
      " 8   cigs    196 non-null    int64  \n",
      " 9   drink   196 non-null    int64  \n",
      " 10  male    196 non-null    int64  \n",
      " 11  mwhte   196 non-null    int64  \n",
      " 12  mblck   196 non-null    int64  \n",
      " 13  moth    196 non-null    int64  \n",
      " 14  fwhte   196 non-null    int64  \n",
      " 15  fblck   196 non-null    int64  \n",
      " 16  foth    196 non-null    int64  \n",
      " 17  bwght   196 non-null    int64  \n",
      "dtypes: float64(3), int64(15)\n",
      "memory usage: 27.7 KB\n",
      "None\n"
     ]
    }
   ],
   "source": [
    "#looking at the columns and datatypes of the dataframe(df)\n",
    "print(df.info())"
   ]
  },
  {
   "cell_type": "code",
   "execution_count": 3,
   "id": "a75286df",
   "metadata": {},
   "outputs": [
    {
     "name": "stdout",
     "output_type": "stream",
     "text": [
      "mage      False\n",
      "meduc      True\n",
      "monpre    False\n",
      "npvis      True\n",
      "fage      False\n",
      "feduc      True\n",
      "omaps     False\n",
      "fmaps     False\n",
      "cigs      False\n",
      "drink     False\n",
      "male      False\n",
      "mwhte     False\n",
      "mblck     False\n",
      "moth      False\n",
      "fwhte     False\n",
      "fblck     False\n",
      "foth      False\n",
      "bwght     False\n",
      "dtype: bool\n"
     ]
    }
   ],
   "source": [
    "#initial check for missing values \n",
    "print(df.isnull().any(axis=0))"
   ]
  },
  {
   "cell_type": "code",
   "execution_count": 4,
   "id": "067c0cb8",
   "metadata": {
    "scrolled": true
   },
   "outputs": [
    {
     "name": "stdout",
     "output_type": "stream",
     "text": [
      "         mage   meduc  monpre   npvis    fage   feduc   omaps   fmaps    cigs  \\\n",
      "count  196.00  193.00  196.00  193.00  196.00  189.00  196.00  196.00  196.00   \n",
      "mean    40.15   13.91    2.34   11.60   39.29   13.85    8.19    8.96   10.93   \n",
      "std     10.25    2.06    1.36    4.27    8.98    2.63    1.58    0.65    6.10   \n",
      "min     23.00    8.00    1.00    2.00   23.00    1.00    2.00    5.00    0.00   \n",
      "25%     33.00   12.00    2.00   10.00   34.75   12.00    8.00    9.00    6.00   \n",
      "50%     39.00   14.00    2.00   12.00   38.00   14.00    9.00    9.00   11.00   \n",
      "75%     46.00   16.00    3.00   12.00   43.00   16.00    9.00    9.00   15.25   \n",
      "max     71.00   17.00    8.00   35.00   73.00   17.00   10.00   10.00   25.00   \n",
      "\n",
      "        drink    male   mwhte   mblck    moth   fwhte   fblck    foth    bwght  \n",
      "count  196.00  196.00  196.00  196.00  196.00  196.00  196.00  196.00   196.00  \n",
      "mean     5.40    0.55    0.27    0.38    0.35    0.35    0.34    0.31  3334.09  \n",
      "std      3.00    0.50    0.45    0.49    0.48    0.48    0.48    0.46   646.70  \n",
      "min      0.00    0.00    0.00    0.00    0.00    0.00    0.00    0.00   697.00  \n",
      "25%      4.00    0.00    0.00    0.00    0.00    0.00    0.00    0.00  2916.25  \n",
      "50%      5.00    1.00    0.00    0.00    0.00    0.00    0.00    0.00  3452.00  \n",
      "75%      7.25    1.00    1.00    1.00    1.00    1.00    1.00    1.00  3759.50  \n",
      "max     14.00    1.00    1.00    1.00    1.00    1.00    1.00    1.00  4933.00  \n"
     ]
    }
   ],
   "source": [
    "#looking at the descriptive statistics of the integers to check for anomalies\n",
    "print(df.describe(include = 'number').round(decimals=2))"
   ]
  },
  {
   "cell_type": "code",
   "execution_count": 5,
   "id": "5bff0c9d",
   "metadata": {},
   "outputs": [
    {
     "data": {
      "image/png": "[encoded data removed]",
      "text/plain": [
       "<Figure size 432x288 with 1 Axes>"
      ]
     },
     "metadata": {
      "needs_background": "light"
     },
     "output_type": "display_data"
    }
   ],
   "source": [
    "#creating a histogram for meduc\n",
    "sns.histplot(data  = df,\n",
    "             x     ='meduc',\n",
    "             bins  = 15,\n",
    "             kde   = False,\n",
    "             color = 'pink')\n",
    "\n",
    "\n",
    "# this adds a title\n",
    "plt.title(label = \"Distribution of proceeds of transactions\")\n",
    "\n",
    "\n",
    "# this adds an x-label\n",
    "plt.xlabel(xlabel = 'Dollar Value')\n",
    "\n",
    "\n",
    "# this adds a y-label\n",
    "plt.ylabel(ylabel = 'Frequency')\n",
    "\n",
    "#adding the mean and the median \n",
    "plt.axvline(x=df['meduc'].mean(),\n",
    "           color = 'red')\n",
    "plt.axvline(x=df['meduc'].median())\n",
    "\n",
    "\n",
    "# these compile and display the plot so that it is formatted as expected\n",
    "plt.tight_layout()\n",
    "plt.show()\n"
   ]
  },
  {
   "cell_type": "code",
   "execution_count": 6,
   "id": "809283da",
   "metadata": {},
   "outputs": [
    {
     "name": "stdout",
     "output_type": "stream",
     "text": [
      "Index(['mage', 'meduc', 'monpre', 'npvis', 'fage', 'feduc', 'omaps', 'fmaps',\n",
      "       'cigs', 'drink', 'male', 'mwhte', 'mblck', 'moth', 'fwhte', 'fblck',\n",
      "       'foth', 'bwght', 'm_meduc', 'm_npvis', 'm_feduc'],\n",
      "      dtype='object')\n"
     ]
    }
   ],
   "source": [
    "# developing a loop to automatically flag missing values for meduc, feduc and npvis\n",
    "for col in df:\n",
    "\n",
    "    if df[col].isnull().astype(int).sum() > 0:\n",
    "        df['m_'+col] = df[col].isnull().astype(int)\n",
    "\n",
    "print(df.columns)"
   ]
  },
  {
   "cell_type": "code",
   "execution_count": 7,
   "id": "835ce3eb",
   "metadata": {},
   "outputs": [
    {
     "name": "stdout",
     "output_type": "stream",
     "text": [
      "mage       0\n",
      "meduc      0\n",
      "monpre     0\n",
      "npvis      0\n",
      "fage       0\n",
      "feduc      0\n",
      "omaps      0\n",
      "fmaps      0\n",
      "cigs       0\n",
      "drink      0\n",
      "male       0\n",
      "mwhte      0\n",
      "mblck      0\n",
      "moth       0\n",
      "fwhte      0\n",
      "fblck      0\n",
      "foth       0\n",
      "bwght      0\n",
      "m_meduc    0\n",
      "m_npvis    0\n",
      "m_feduc    0\n",
      "dtype: int64\n"
     ]
    }
   ],
   "source": [
    "#impute missing values with the mode \n",
    "df[\"meduc\"].fillna(value=df[\"meduc\"].mode()[0], inplace =True)\n",
    "df[\"feduc\"].fillna(value=df[\"feduc\"].mode()[0], inplace = True)\n",
    "df[\"npvis\"].fillna(value=df[\"npvis\"].mode()[0], inplace =True)\n",
    "\n",
    "print(df.isnull().sum(axis = 0))"
   ]
  },
  {
   "cell_type": "code",
   "execution_count": 8,
   "id": "6fa79eee",
   "metadata": {},
   "outputs": [
    {
     "name": "stdout",
     "output_type": "stream",
     "text": [
      "bwght               1.00\n",
      "omaps               0.25\n",
      "fmaps               0.25\n",
      "mblck               0.13\n",
      "feduc               0.13\n",
      "parents_black_ad    0.13\n",
      "fblck               0.12\n",
      "male                0.11\n",
      "meduc               0.11\n",
      "m_npvis             0.06\n",
      "npvis               0.06\n",
      "m_feduc            -0.00\n",
      "moth               -0.02\n",
      "fwhte              -0.04\n",
      "monpre             -0.05\n",
      "parents_white_ad   -0.08\n",
      "foth               -0.08\n",
      "mwhte              -0.11\n",
      "black_cigs_mult    -0.11\n",
      "m_meduc            -0.13\n",
      "fage               -0.40\n",
      "log_mage           -0.42\n",
      "mage               -0.46\n",
      "parents_age_ad     -0.49\n",
      "parents_age_mult   -0.50\n",
      "cigs               -0.57\n",
      "age_cigs_mult      -0.69\n",
      "drink              -0.74\n",
      "cigs_drink_mult    -0.80\n",
      "Name: bwght, dtype: float64\n",
      "Index(['mage', 'meduc', 'monpre', 'npvis', 'fage', 'feduc', 'omaps', 'fmaps',\n",
      "       'cigs', 'drink', 'male', 'mwhte', 'mblck', 'moth', 'fwhte', 'fblck',\n",
      "       'foth', 'bwght', 'm_meduc', 'm_npvis', 'm_feduc', 'cigs_drink_mult',\n",
      "       'parents_age_mult', 'parents_age_ad', 'parents_black_ad',\n",
      "       'parents_white_ad', 'black_cigs_mult', 'age_cigs_mult', 'log_mage'],\n",
      "      dtype='object')\n"
     ]
    }
   ],
   "source": [
    "#creating new potentially helpful columns for the df\n",
    "\n",
    "df[\"cigs_drink_mult\"]=df[\"cigs\"]*df[\"drink\"]\n",
    "\n",
    "df[\"parents_age_mult\"]=df[\"mage\"]*df[\"fage\"]\n",
    "\n",
    "df[\"parents_age_ad\"]=df[\"mage\"]+df[\"fage\"]\n",
    "\n",
    "df[\"parents_black_ad\"]=df[\"mblck\"]+df[\"fblck\"]\n",
    "\n",
    "df[\"parents_white_ad\"]=df[\"mwhte\"]+df[\"fwhte\"]\n",
    "\n",
    "df[\"black_cigs_mult\"]=df[\"parents_black_ad\"]*df[\"cigs\"]\n",
    "\n",
    "df[\"age_cigs_mult\"]=df[\"parents_age_mult\"]*df[\"cigs\"]\n",
    "\n",
    "#log transformation of mothers age and saving it to the dataset\n",
    "df['log_mage'] = np.log(df['mage'])\n",
    "\n",
    "# creating a (Pearson) correlation matrix to understand the correlation with the y variable, birthweight\n",
    "df_corr = df.corr(method=\"pearson\").round(2)\n",
    "#print the corrleation matrix \n",
    "print(df_corr.loc['bwght'].sort_values(ascending = False))\n",
    "\n",
    "#printing all columns \n",
    "print(df.columns)"
   ]
  },
  {
   "cell_type": "code",
   "execution_count": 9,
   "id": "975c3a4b",
   "metadata": {},
   "outputs": [
    {
     "name": "stdout",
     "output_type": "stream",
     "text": [
      "log_mage +\n",
      "meduc +\n",
      "feduc +\n",
      "cigs +\n",
      "drink +\n",
      "male +\n",
      "moth +\n",
      "fblck +\n",
      "foth +\n",
      "m_meduc +\n",
      "m_npvis +\n",
      "m_feduc +\n",
      "cigs_drink_mult +\n",
      "parents_age_mult +\n",
      "black_cigs_mult +\n",
      "age_cigs_mult +\n"
     ]
    }
   ],
   "source": [
    "# declaring set of x-variables\n",
    "#TAKE OUT BWGHT, omaps and fmaps\n",
    "full_variables = ['meduc', 'fage',\n",
    "       'cigs', 'drink', 'male']\n",
    "\n",
    "\n",
    "x_variables = ['log_mage', 'meduc','feduc',\n",
    "       'cigs', 'drink', 'male', 'moth', 'fblck',\n",
    "       'foth', 'm_meduc', 'm_npvis', 'm_feduc', 'cigs_drink_mult',\n",
    "       'parents_age_mult','black_cigs_mult', 'age_cigs_mult']\n",
    "\n",
    "# looping to make x-variables suitable for statsmodels\n",
    "for val in x_variables:\n",
    "    print(f\"{val} +\")"
   ]
  },
  {
   "cell_type": "code",
   "execution_count": 10,
   "id": "18bcce26",
   "metadata": {},
   "outputs": [],
   "source": [
    "# preparing the target variable\n",
    "df_target = df.loc[ : , 'bwght']\n",
    "\n",
    "# preparing explanatory variable data\n",
    "df_data   = df.drop(['bwght'], axis = 1)"
   ]
  },
  {
   "cell_type": "code",
   "execution_count": 11,
   "id": "ae3be510",
   "metadata": {},
   "outputs": [],
   "source": [
    "df_data_FULL = df_data.loc[:, full_variables]\n",
    "\n",
    "df_data_ols = df_data.loc[:, x_variables]"
   ]
  },
  {
   "cell_type": "code",
   "execution_count": 12,
   "id": "aee437dc",
   "metadata": {},
   "outputs": [],
   "source": [
    "# FULL X-dataset (normal Y)\n",
    "x_train_FULL, x_test_FULL, y_train_FULL, y_test_FULL = train_test_split(\n",
    "            df_data_FULL,     # x-variables\n",
    "            df_target,   # y-variable\n",
    "            test_size = 0.25,\n",
    "            random_state = 219)\n",
    "\n",
    "\n",
    "# OLS p-value x-dataset (normal Y)\n",
    "x_train_OLS, x_test_OLS, y_train_OLS, y_test_OLS = train_test_split(\n",
    "            df_data_ols,         # x-variables\n",
    "            df_target,   # y-variable\n",
    "            test_size = 0.25,\n",
    "            random_state = 219)"
   ]
  },
  {
   "cell_type": "code",
   "execution_count": 13,
   "id": "a8d29613",
   "metadata": {},
   "outputs": [
    {
     "name": "stdout",
     "output_type": "stream",
     "text": [
      "                            OLS Regression Results                            \n",
      "==============================================================================\n",
      "Dep. Variable:                  bwght   R-squared:                       0.689\n",
      "Model:                            OLS   Adj. R-squared:                  0.678\n",
      "Method:                 Least Squares   F-statistic:                     62.44\n",
      "Date:                Wed, 24 Nov 2021   Prob (F-statistic):           4.70e-34\n",
      "Time:                        20:42:25   Log-Likelihood:                -1078.8\n",
      "No. Observations:                 147   AIC:                             2170.\n",
      "Df Residuals:                     141   BIC:                             2188.\n",
      "Df Model:                           5                                         \n",
      "Covariance Type:            nonrobust                                         \n",
      "==============================================================================\n",
      "                 coef    std err          t      P>|t|      [0.025      0.975]\n",
      "------------------------------------------------------------------------------\n",
      "Intercept   4391.6145    269.946     16.268      0.000    3857.950    4925.279\n",
      "meduc         35.8393     15.598      2.298      0.023       5.003      66.676\n",
      "fage         -13.3911      3.633     -3.686      0.000     -20.574      -6.208\n",
      "cigs         -39.0481      5.529     -7.062      0.000     -49.978     -28.118\n",
      "drink       -114.9409     11.672     -9.848      0.000    -138.016     -91.866\n",
      "male          68.9791     64.087      1.076      0.284     -57.717     195.676\n",
      "==============================================================================\n",
      "Omnibus:                        5.526   Durbin-Watson:                   1.892\n",
      "Prob(Omnibus):                  0.063   Jarque-Bera (JB):                7.584\n",
      "Skew:                          -0.144   Prob(JB):                       0.0226\n",
      "Kurtosis:                       4.075   Cond. No.                         383.\n",
      "==============================================================================\n",
      "\n",
      "Notes:\n",
      "[1] Standard Errors assume that the covariance matrix of the errors is correctly specified.\n"
     ]
    }
   ],
   "source": [
    "# merging X_train and y_train so that they can be used in statsmodels\n",
    "df_train = pd.concat([x_train_FULL, y_train_FULL], axis = 1)\n",
    "\n",
    "\n",
    "# Step 1: build a model\n",
    "lm_best = smf.ols(formula =  \"\"\"bwght ~ meduc+\n",
    "                                        fage+\n",
    "                                        cigs+\n",
    "                                        drink+\n",
    "                                        male\"\"\",\n",
    "                                data = df_train)\n",
    "\n",
    "\n",
    "# Step 2: fit the model based on the data\n",
    "results = lm_best.fit()\n",
    "\n",
    "\n",
    "\n",
    "# Step 3: analyze the summary output\n",
    "print(results.summary())"
   ]
  },
  {
   "cell_type": "code",
   "execution_count": 14,
   "id": "55a05acb",
   "metadata": {},
   "outputs": [
    {
     "name": "stdout",
     "output_type": "stream",
     "text": [
      "                            OLS Regression Results                            \n",
      "==============================================================================\n",
      "Dep. Variable:                  bwght   R-squared:                       0.761\n",
      "Model:                            OLS   Adj. R-squared:                  0.731\n",
      "Method:                 Least Squares   F-statistic:                     25.85\n",
      "Date:                Wed, 24 Nov 2021   Prob (F-statistic):           9.29e-33\n",
      "Time:                        20:42:25   Log-Likelihood:                -1059.5\n",
      "No. Observations:                 147   AIC:                             2153.\n",
      "Df Residuals:                     130   BIC:                             2204.\n",
      "Df Model:                          16                                         \n",
      "Covariance Type:            nonrobust                                         \n",
      "====================================================================================\n",
      "                       coef    std err          t      P>|t|      [0.025      0.975]\n",
      "------------------------------------------------------------------------------------\n",
      "Intercept         4010.1555    800.346      5.011      0.000    2426.767    5593.544\n",
      "log_mage          -134.3375    231.506     -0.580      0.563    -592.344     323.669\n",
      "meduc               26.6750     18.425      1.448      0.150      -9.776      63.126\n",
      "feduc               25.4427     15.277      1.665      0.098      -4.781      55.667\n",
      "cigs                -3.3102     12.628     -0.262      0.794     -28.294      21.673\n",
      "drink              -54.6672     22.116     -2.472      0.015     -98.422     -10.913\n",
      "male                95.8490     61.503      1.558      0.122     -25.826     217.524\n",
      "moth              -140.7452    136.067     -1.034      0.303    -409.938     128.447\n",
      "fblck              109.7398    121.103      0.906      0.367    -129.848     349.328\n",
      "foth               -23.3024    139.464     -0.167      0.868    -299.215     252.610\n",
      "m_meduc           -392.6672    301.762     -1.301      0.195    -989.667     204.332\n",
      "m_npvis            501.2706    299.848      1.672      0.097     -91.943    1094.484\n",
      "m_feduc            264.9946    247.038      1.073      0.285    -223.740     753.729\n",
      "cigs_drink_mult     -3.9428      1.661     -2.374      0.019      -7.229      -0.657\n",
      "parents_age_mult    -0.1133      0.106     -1.067      0.288      -0.323       0.097\n",
      "black_cigs_mult     -7.8775      5.237     -1.504      0.135     -18.238       2.482\n",
      "age_cigs_mult       -0.0048      0.006     -0.799      0.426      -0.017       0.007\n",
      "==============================================================================\n",
      "Omnibus:                        2.538   Durbin-Watson:                   1.867\n",
      "Prob(Omnibus):                  0.281   Jarque-Bera (JB):                2.049\n",
      "Skew:                           0.228   Prob(JB):                        0.359\n",
      "Kurtosis:                       3.356   Cond. No.                     7.43e+05\n",
      "==============================================================================\n",
      "\n",
      "Notes:\n",
      "[1] Standard Errors assume that the covariance matrix of the errors is correctly specified.\n",
      "[2] The condition number is large, 7.43e+05. This might indicate that there are\n",
      "strong multicollinearity or other numerical problems.\n"
     ]
    }
   ],
   "source": [
    "# merging X_train and y_train so that they can be used in statsmodels\n",
    "df_train_ols = pd.concat([x_train_OLS, y_train_OLS], axis = 1)\n",
    "\n",
    "\n",
    "# Step 1: build a model\n",
    "lm_best = smf.ols(formula = \"\"\"bwght ~ log_mage +\n",
    "                                        meduc +\n",
    "                                        feduc +\n",
    "                                        cigs +\n",
    "                                        drink +\n",
    "                                        male +\n",
    "                                        moth +\n",
    "                                        fblck +\n",
    "                                        foth +\n",
    "                                        m_meduc +\n",
    "                                        m_npvis +\n",
    "                                        m_feduc +\n",
    "                                        cigs_drink_mult +\n",
    "                                        parents_age_mult +\n",
    "                                        black_cigs_mult +\n",
    "                                        age_cigs_mult\n",
    "                                 \"\"\",\n",
    "                                data = df_train_ols)\n",
    "\n",
    "\n",
    "# Step 2: fit the model based on the data\n",
    "results = lm_best.fit()\n",
    "\n",
    "\n",
    "\n",
    "# Step 3: analyze the summary output\n",
    "print(results.summary())\n",
    "\n",
    "\n",
    "#taken out  m_meduc + m_npvis + m_feduc + black_cigs_mult + npvis +  m_feduc + age_cigs_mult+  monpre +   feduc + parents_black_ad +"
   ]
  },
  {
   "cell_type": "code",
   "execution_count": 15,
   "id": "da300aea",
   "metadata": {},
   "outputs": [
    {
     "name": "stdout",
     "output_type": "stream",
     "text": [
      "OLS Training Score : 0.6889\n",
      "OLS Testing Score  : 0.69\n",
      "OLS Train-Test Gap : 0.0011\n"
     ]
    }
   ],
   "source": [
    "# INSTANTIATING a model object\n",
    "lr = LinearRegression()\n",
    "\n",
    "\n",
    "# FITTING to the training data\n",
    "lr_fit = lr.fit(x_train_FULL, y_train_FULL)\n",
    "\n",
    "\n",
    "# PREDICTING on new data\n",
    "#doesnt not know the y values just applies the found coefficients to the new data \n",
    "lr_pred = lr_fit.predict(x_test_FULL)\n",
    "\n",
    "\n",
    "# SCORING the results\n",
    "print('OLS Training Score :', lr.score(x_train_FULL, y_train_FULL).round(4))# using R-square\n",
    "print('OLS Testing Score  :',  lr.score(x_test_FULL, y_test_FULL).round(4)) # using R-square\n",
    "\n",
    "\n",
    "lr_train_score= lr.score(x_train_FULL, y_train_FULL).round(4)\n",
    "lr_test_score= lr.score(x_test_FULL, y_test_FULL).round(4)\n",
    "\n",
    "# displaying and saving the gap between training and testing\n",
    "#checks stability of the model should be below 0.05 - 5% \n",
    "print('OLS Train-Test Gap :', abs(lr_train_score - lr_test_score).round(4))\n",
    "lr_test_gap = abs(lr_train_score - lr_test_score).round(4)\n",
    "\n",
    "\n",
    "#these scores are R^2"
   ]
  },
  {
   "cell_type": "code",
   "execution_count": 16,
   "id": "37489629",
   "metadata": {},
   "outputs": [
    {
     "name": "stdout",
     "output_type": "stream",
     "text": [
      "('intercept', 4391.61)\n",
      "('meduc', 35.84)\n",
      "('fage', -13.39)\n",
      "('cigs', -39.05)\n",
      "('drink', -114.94)\n",
      "('male', 68.98)\n"
     ]
    }
   ],
   "source": [
    "# zipping each feature name to its coefficient\n",
    "lr_model_values = zip(df_data[full_variables].columns,\n",
    "                      lr_fit.coef_.round(decimals = 2))\n",
    "\n",
    "\n",
    "# setting up a placeholder list to store model features\n",
    "lr_model_lst = [('intercept', lr_fit.intercept_.round(decimals = 2))]\n",
    "\n",
    "\n",
    "# printing out each feature-coefficient pair one by one\n",
    "for val in lr_model_values:\n",
    "    lr_model_lst.append(val)\n",
    "    \n",
    "\n",
    "# checking the results\n",
    "for pair in lr_model_lst:\n",
    "    print(pair)"
   ]
  },
  {
   "cell_type": "code",
   "execution_count": 17,
   "id": "b17868dd",
   "metadata": {},
   "outputs": [
    {
     "name": "stdout",
     "output_type": "stream",
     "text": [
      "OLS Training Score : 0.7608\n",
      "OLS Testing Score  : 0.5498\n",
      "OLS Train-Test Gap : 0.211\n"
     ]
    }
   ],
   "source": [
    "# INSTANTIATING a model object\n",
    "lr = LinearRegression()\n",
    "\n",
    "\n",
    "# FITTING to the training data\n",
    "lr_fit = lr.fit(x_train_OLS, y_train_OLS)\n",
    "\n",
    "\n",
    "# PREDICTING on new data\n",
    "#doesnt not know the y values just applies the found coefficients to the new data \n",
    "lr_pred = lr_fit.predict(x_test_OLS)\n",
    "\n",
    "\n",
    "# SCORING the results\n",
    "print('OLS Training Score :', lr.score(x_train_OLS, y_train_OLS).round(4))# using R-square\n",
    "print('OLS Testing Score  :',  lr.score(x_test_OLS, y_test_OLS).round(4)) # using R-square\n",
    "\n",
    "\n",
    "lr_train_score= lr.score(x_train_OLS, y_train_OLS).round(4)\n",
    "lr_test_score= lr.score(x_test_OLS, y_test_OLS).round(4)\n",
    "\n",
    "# displaying and saving the gap between training and testing\n",
    "#checks stability of the model should be below 0.05 - 5% \n",
    "print('OLS Train-Test Gap :', abs(lr_train_score - lr_test_score).round(4))\n",
    "lr_test_gap = abs(lr_train_score - lr_test_score).round(4)\n",
    "\n",
    "\n",
    "#these scores are R^2"
   ]
  },
  {
   "cell_type": "code",
   "execution_count": 18,
   "id": "57171be9",
   "metadata": {},
   "outputs": [
    {
     "name": "stdout",
     "output_type": "stream",
     "text": [
      "Lasso Training Score : 0.6876\n",
      "Lasso Testing Score  : 0.706\n",
      "Lasso Train-Test Gap : 0.0184\n"
     ]
    }
   ],
   "source": [
    "# INSTANTIATING a model object\n",
    "lasso_model = sklearn.linear_model.Lasso(alpha = 1.0,\n",
    "                                         normalize = True) # default magitude\n",
    "\n",
    "\n",
    "# FITTING to the training data\n",
    "lasso_fit = lasso_model.fit(x_train_FULL, y_train_FULL)\n",
    "\n",
    "\n",
    "# PREDICTING on new data\n",
    "lasso_pred = lasso_fit.predict(x_test_FULL)\n",
    "\n",
    "\n",
    "# SCORING the results\n",
    "print('Lasso Training Score :', lasso_model.score(x_train_FULL, y_train_FULL).round(4))\n",
    "print('Lasso Testing Score  :', lasso_model.score(x_test_FULL, y_test_FULL).round(4))\n",
    "\n",
    "\n",
    "## the following code has been provided for you ##\n",
    "\n",
    "# saving scoring data for future use\n",
    "lasso_train_score = lasso_model.score(x_train_FULL, y_train_FULL).round(4) # using R-square\n",
    "lasso_test_score  = lasso_model.score(x_test_FULL, y_test_FULL).round(4)   # using R-square\n",
    "\n",
    "\n",
    "\n",
    "# displaying and saving the gap between training and testing\n",
    "print('Lasso Train-Test Gap :', abs(lasso_train_score - lasso_test_score).round(4))\n",
    "lasso_test_gap = abs(lasso_train_score - lasso_test_score).round(4)"
   ]
  },
  {
   "cell_type": "code",
   "execution_count": 19,
   "id": "3d76206a",
   "metadata": {},
   "outputs": [
    {
     "name": "stdout",
     "output_type": "stream",
     "text": [
      "('intercept', 4441.72)\n",
      "('meduc', 28.97)\n",
      "('fage', -12.56)\n",
      "('cigs', -37.47)\n",
      "('drink', -113.79)\n",
      "('male', 46.49)\n"
     ]
    }
   ],
   "source": [
    "# zipping each feature name to its coefficient\n",
    "lasso_model_values = zip(df_data[full_variables].columns,\n",
    "                      lasso_fit.coef_.round(decimals = 2))\n",
    "\n",
    "\n",
    "# setting up a placeholder list to store model features\n",
    "lasso_model_lst = [('intercept', lasso_fit.intercept_.round(decimals = 2))]\n",
    "\n",
    "\n",
    "# printing out each feature-coefficient pair one by one\n",
    "for val in lasso_model_values:\n",
    "    lasso_model_lst.append(val)\n",
    "    \n",
    "\n",
    "# checking the results\n",
    "for pair in lasso_model_lst:\n",
    "    print(pair)"
   ]
  },
  {
   "cell_type": "code",
   "execution_count": 20,
   "id": "f65735cb",
   "metadata": {},
   "outputs": [
    {
     "name": "stdout",
     "output_type": "stream",
     "text": [
      "Training Score: 0.6862\n",
      "Testing Score : 0.7177\n",
      "ARD Train-Test Gap : 0.0315\n"
     ]
    }
   ],
   "source": [
    "# INSTANTIATING a model object\n",
    "ard_model = sklearn.linear_model.ARDRegression()\n",
    "\n",
    "\n",
    "# FITTING the training data\n",
    "ard_fit = ard_model.fit(x_train_FULL, y_train_FULL)\n",
    "\n",
    "\n",
    "# PREDICTING on new data\n",
    "ard_pred = ard_fit.predict(x_test_FULL)\n",
    "\n",
    "\n",
    "print('Training Score:', ard_model.score(x_train_FULL, y_train_FULL).round(4))\n",
    "print('Testing Score :',  ard_model.score(x_test_FULL, y_test_FULL).round(4))\n",
    "\n",
    "\n",
    "# saving scoring data for future use\n",
    "ard_train_score = ard_model.score(x_train_FULL, y_train_FULL)\n",
    "ard_test_score  = ard_model.score(x_test_FULL, y_test_FULL)\n",
    "\n",
    "\n",
    "# displaying and saving the gap between training and testing\n",
    "print('ARD Train-Test Gap :', abs(ard_train_score - ard_test_score).round(4))\n",
    "ard_test_gap = abs(ard_train_score - ard_test_score).round(4)"
   ]
  },
  {
   "cell_type": "code",
   "execution_count": 21,
   "id": "b272f945",
   "metadata": {},
   "outputs": [
    {
     "name": "stdout",
     "output_type": "stream",
     "text": [
      "('intercept', 4524.2)\n",
      "('meduc', 27.12)\n",
      "('fage', -12.8)\n",
      "('cigs', -38.43)\n",
      "('drink', -117.01)\n",
      "('male', 7.11)\n"
     ]
    }
   ],
   "source": [
    "# zipping each feature name to its coefficient\n",
    "ard_model_values = zip(df_data[full_variables].columns,\n",
    "                      ard_fit.coef_.round(decimals = 2))\n",
    "\n",
    "\n",
    "# setting up a placeholder list to store model features\n",
    "ard_model_lst = [('intercept', ard_fit.intercept_.round(decimals = 2))]\n",
    "\n",
    "\n",
    "# printing out each feature-coefficient pair one by one\n",
    "for val in ard_model_values:\n",
    "    ard_model_lst.append(val)\n",
    "    \n",
    "\n",
    "# checking the results\n",
    "for pair in ard_model_lst:\n",
    "    print(pair)"
   ]
  },
  {
   "cell_type": "code",
   "execution_count": 22,
   "id": "3ce33082",
   "metadata": {},
   "outputs": [
    {
     "name": "stdout",
     "output_type": "stream",
     "text": [
      "\n",
      "Model      Train Score      Test Score       Train-Test Gap\n",
      "-----      -----------      ----------       --------------\n",
      "OLS         0.76               0.55              0.21\n",
      "Lasso       0.69               0.71              0.02\n",
      "ARD*        0.69               0.72              0.03\n",
      "\n",
      "*Final Model\n",
      "\n",
      "\n"
     ]
    }
   ],
   "source": [
    "# comparing results\n",
    "#add coeficients for the final table \n",
    "#lable Final model as dynamic string!! \n",
    "\n",
    "print(f\"\"\"\n",
    "Model      Train Score      Test Score       Train-Test Gap\n",
    "-----      -----------      ----------       --------------\n",
    "OLS         {lr_train_score.round(2)}               {lr_test_score.round(2)}              {lr_test_gap.round(2)}\n",
    "Lasso       {lasso_train_score.round(2)}               {lasso_test_score.round(2)}              {lasso_test_gap.round(2)}\n",
    "ARD*        {ard_train_score.round(2)}               {ard_test_score.round(2)}              {ard_test_gap.round(2)}\n",
    "\n",
    "*Final Model\n",
    "\n",
    "\"\"\")\n",
    "\n",
    "\n",
    "# creating a dictionary for model results\n",
    "model_performance = {\n",
    "    \n",
    "    'Model Type'    : ['OLS', 'Lasso', 'ARD'],\n",
    "           \n",
    "    'Training' : [lr_train_score, lasso_train_score,\n",
    "                                   ard_train_score],\n",
    "           \n",
    "    'Testing'  : [lr_test_score, lasso_test_score,\n",
    "                                   ard_test_score],\n",
    "                    \n",
    "    'Train-Test Gap' : [lr_test_gap, lasso_test_gap,\n",
    "                                        ard_test_gap],\n",
    "                    \n",
    "    'Model Size' : [len(lr_model_lst), len(lasso_model_lst),\n",
    "                                    len(ard_model_lst)],\n",
    "                    \n",
    "    'Model' : [lr_model_lst, lasso_model_lst, ard_model_lst]}\n",
    "\n",
    "\n",
    "# converting model_performance into a DataFrame\n",
    "model_performance = pd.DataFrame(model_performance)\n",
    "\n",
    "\n",
    "# sending model results to Excel\n",
    "model_performance.to_excel(\"linear_model_performance.xlsx\",\n",
    "                           index = False)"
   ]
  },
  {
   "cell_type": "markdown",
   "id": "2214c626",
   "metadata": {},
   "source": [
    "The Final Model is ARD with a Test Score of 72% and a Train-Test Gap of 3%"
   ]
  },
  {
   "cell_type": "markdown",
   "id": "7b36f98a",
   "metadata": {},
   "source": [
    "Trying whether standardized KNN is also an option. \n",
    "Realizing it is not. "
   ]
  },
  {
   "cell_type": "code",
   "execution_count": 23,
   "id": "2a1f2278",
   "metadata": {},
   "outputs": [
    {
     "data": {
      "text/html": [
       "<div>\n",
       "<style scoped>\n",
       "    .dataframe tbody tr th:only-of-type {\n",
       "        vertical-align: middle;\n",
       "    }\n",
       "\n",
       "    .dataframe tbody tr th {\n",
       "        vertical-align: top;\n",
       "    }\n",
       "\n",
       "    .dataframe thead th {\n",
       "        text-align: right;\n",
       "    }\n",
       "</style>\n",
       "<table border=\"1\" class=\"dataframe\">\n",
       "  <thead>\n",
       "    <tr style=\"text-align: right;\">\n",
       "      <th></th>\n",
       "      <th>0</th>\n",
       "      <th>1</th>\n",
       "      <th>2</th>\n",
       "      <th>3</th>\n",
       "      <th>4</th>\n",
       "    </tr>\n",
       "  </thead>\n",
       "  <tbody>\n",
       "    <tr>\n",
       "      <th>count</th>\n",
       "      <td>196.00</td>\n",
       "      <td>196.00</td>\n",
       "      <td>196.00</td>\n",
       "      <td>196.00</td>\n",
       "      <td>196.00</td>\n",
       "    </tr>\n",
       "    <tr>\n",
       "      <th>mean</th>\n",
       "      <td>-0.00</td>\n",
       "      <td>0.00</td>\n",
       "      <td>-0.00</td>\n",
       "      <td>-0.00</td>\n",
       "      <td>0.00</td>\n",
       "    </tr>\n",
       "    <tr>\n",
       "      <th>std</th>\n",
       "      <td>1.00</td>\n",
       "      <td>1.00</td>\n",
       "      <td>1.00</td>\n",
       "      <td>1.00</td>\n",
       "      <td>1.00</td>\n",
       "    </tr>\n",
       "    <tr>\n",
       "      <th>min</th>\n",
       "      <td>-2.87</td>\n",
       "      <td>-1.82</td>\n",
       "      <td>-1.80</td>\n",
       "      <td>-1.80</td>\n",
       "      <td>-1.11</td>\n",
       "    </tr>\n",
       "    <tr>\n",
       "      <th>25%</th>\n",
       "      <td>-0.92</td>\n",
       "      <td>-0.51</td>\n",
       "      <td>-0.81</td>\n",
       "      <td>-0.47</td>\n",
       "      <td>-1.11</td>\n",
       "    </tr>\n",
       "    <tr>\n",
       "      <th>50%</th>\n",
       "      <td>0.06</td>\n",
       "      <td>-0.14</td>\n",
       "      <td>0.01</td>\n",
       "      <td>-0.13</td>\n",
       "      <td>0.90</td>\n",
       "    </tr>\n",
       "    <tr>\n",
       "      <th>75%</th>\n",
       "      <td>1.03</td>\n",
       "      <td>0.41</td>\n",
       "      <td>0.71</td>\n",
       "      <td>0.62</td>\n",
       "      <td>0.90</td>\n",
       "    </tr>\n",
       "    <tr>\n",
       "      <th>max</th>\n",
       "      <td>1.52</td>\n",
       "      <td>3.76</td>\n",
       "      <td>2.31</td>\n",
       "      <td>2.87</td>\n",
       "      <td>0.90</td>\n",
       "    </tr>\n",
       "  </tbody>\n",
       "</table>\n",
       "</div>"
      ],
      "text/plain": [
       "            0       1       2       3       4\n",
       "count  196.00  196.00  196.00  196.00  196.00\n",
       "mean    -0.00    0.00   -0.00   -0.00    0.00\n",
       "std      1.00    1.00    1.00    1.00    1.00\n",
       "min     -2.87   -1.82   -1.80   -1.80   -1.11\n",
       "25%     -0.92   -0.51   -0.81   -0.47   -1.11\n",
       "50%      0.06   -0.14    0.01   -0.13    0.90\n",
       "75%      1.03    0.41    0.71    0.62    0.90\n",
       "max      1.52    3.76    2.31    2.87    0.90"
      ]
     },
     "execution_count": 23,
     "metadata": {},
     "output_type": "execute_result"
    }
   ],
   "source": [
    "df_data_for_scaling   =df_data_FULL.copy()\n",
    "\n",
    "\n",
    "# INSTANTIATING a StandardScaler() object\n",
    "#makes everyhing be on the same variance sacle \n",
    "#mean zero\n",
    "#St dev one \n",
    "scaler = StandardScaler()\n",
    "\n",
    "\n",
    "# FITTING the scaler with housing_data\n",
    "scaler.fit(df_data_for_scaling)\n",
    "\n",
    "\n",
    "# TRANSFORMING our data after fit\n",
    "x_scaled = scaler.transform(df_data_for_scaling)\n",
    "\n",
    "\n",
    "# converting scaled data into a DataFrame\n",
    "x_scaled_df = pd.DataFrame(x_scaled)\n",
    "\n",
    "\n",
    "# checking the results\n",
    "x_scaled_df.describe().round(2)"
   ]
  },
  {
   "cell_type": "code",
   "execution_count": 24,
   "id": "4f656a6b",
   "metadata": {},
   "outputs": [
    {
     "name": "stdout",
     "output_type": "stream",
     "text": [
      "\n",
      "Dataset BEFORE Scaling\n",
      "----------------------\n",
      "meduc     4.195413\n",
      "fage     80.277671\n",
      "cigs     37.035714\n",
      "drink     8.964077\n",
      "male      0.247397\n",
      "dtype: float64\n",
      "\n",
      "\n",
      "Dataset AFTER Scaling\n",
      "----------------------\n",
      "meduc    1.0\n",
      "fage     1.0\n",
      "cigs     1.0\n",
      "drink    1.0\n",
      "male     1.0\n",
      "dtype: float64\n",
      "\n"
     ]
    }
   ],
   "source": [
    "# adding labels to the scaled DataFrame\n",
    "x_scaled_df.columns = df_data_FULL.columns\n",
    "\n",
    "#  Checking pre- and post-scaling of the data\n",
    "print(f\"\"\"\n",
    "Dataset BEFORE Scaling\n",
    "----------------------\n",
    "{np.var(df_data_FULL)}\n",
    "\n",
    "\n",
    "Dataset AFTER Scaling\n",
    "----------------------\n",
    "{np.var(x_scaled_df)}\n",
    "\"\"\")"
   ]
  },
  {
   "cell_type": "code",
   "execution_count": 25,
   "id": "67af1bda",
   "metadata": {},
   "outputs": [],
   "source": [
    "# FULL X-dataset (normal Y)\n",
    "x_train_sc_FULL, x_test_sc_FULL, y_train_sc_FULL, y_test_sc_FULL = train_test_split(\n",
    "            x_scaled_df,     # x-variables\n",
    "            df_target,   # y-variable\n",
    "            test_size = 0.25,\n",
    "            random_state = 219)"
   ]
  },
  {
   "cell_type": "code",
   "execution_count": 26,
   "id": "874354f9",
   "metadata": {},
   "outputs": [
    {
     "name": "stdout",
     "output_type": "stream",
     "text": [
      "KNN Training Score: 0.7708\n",
      "KNN Testing Score : 0.4568\n",
      "KNN Train-Test Gap: 0.314\n"
     ]
    }
   ],
   "source": [
    "# INSTANTIATING a KNN model object\n",
    "knn_reg = KNeighborsRegressor(algorithm = 'auto',\n",
    "                              n_neighbors = 3)\n",
    "\n",
    "\n",
    "# FITTING to the training data\n",
    "knn_fit = knn_reg.fit(x_train_sc_FULL, y_train_sc_FULL)\n",
    "\n",
    "\n",
    "# PREDICTING on new data\n",
    "knn_reg_pred = knn_fit.predict(x_test_sc_FULL)\n",
    "\n",
    "\n",
    "# SCORING the results\n",
    "print('KNN Training Score:', knn_reg.score(x_train_sc_FULL, y_train_sc_FULL).round(4))\n",
    "print('KNN Testing Score :',  knn_reg.score(x_test_sc_FULL, y_test_sc_FULL).round(4))\n",
    "\n",
    "\n",
    "# saving scoring data for future use\n",
    "knn_reg_score_train = knn_reg.score(x_train_sc_FULL, y_train_sc_FULL).round(4)\n",
    "knn_reg_score_test  = knn_reg.score(x_test_sc_FULL, y_test_sc_FULL).round(4)\n",
    "\n",
    "\n",
    "# displaying and saving the gap between training and testing\n",
    "print('KNN Train-Test Gap:', abs(knn_reg_score_train - knn_reg_score_test).round(4))\n",
    "knn_reg_test_gap = abs(knn_reg_score_train - knn_reg_score_test).round(4)"
   ]
  },
  {
   "cell_type": "code",
   "execution_count": null,
   "id": "58ed8fff",
   "metadata": {},
   "outputs": [],
   "source": []
  }
 ],
 "metadata": {
  "kernelspec": {
   "display_name": "Python 3 (ipykernel)",
   "language": "python",
   "name": "python3"
  },
  "language_info": {
   "codemirror_mode": {
    "name": "ipython",
    "version": 3
   },
   "file_extension": ".py",
   "mimetype": "text/x-python",
   "name": "python",
   "nbconvert_exporter": "python",
   "pygments_lexer": "ipython3",
   "version": "3.8.8"
  },
  "toc": {
   "base_numbering": 1,
   "nav_menu": {},
   "number_sections": true,
   "sideBar": true,
   "skip_h1_title": false,
   "title_cell": "Table of Contents",
   "title_sidebar": "Contents",
   "toc_cell": false,
   "toc_position": {},
   "toc_section_display": true,
   "toc_window_display": false
  },
  "varInspector": {
   "cols": {
    "lenName": 16,
    "lenType": 16,
    "lenVar": 40
   },
   "kernels_config": {
    "python": {
     "delete_cmd_postfix": "",
     "delete_cmd_prefix": "del ",
     "library": "var_list.py",
     "varRefreshCmd": "print(var_dic_list())"
    },
    "r": {
     "delete_cmd_postfix": ") ",
     "delete_cmd_prefix": "rm(",
     "library": "var_list.r",
     "varRefreshCmd": "cat(var_dic_list()) "
    }
   },
   "types_to_exclude": [
    "module",
    "function",
    "builtin_function_or_method",
    "instance",
    "_Feature"
   ],
   "window_display": false
  }
 },
 "nbformat": 4,
 "nbformat_minor": 5
}
